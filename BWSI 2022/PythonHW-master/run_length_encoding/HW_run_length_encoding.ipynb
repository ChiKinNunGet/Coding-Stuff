{
 "cells": [
  {
   "cell_type": "markdown",
   "metadata": {},
   "source": [
    "# Run-Length Encoding\n",
    "Run-length encoding is a simple method for compressing data that contains long sequences of repeated characters. \n",
    "\n",
    "In this compression algorithm:\n",
    "1. A standalone character will be unchanged. E.g `\"a\"` $\\rightarrow$ `[\"a\"]`. \n",
    "2. A run of a character, `c`, repeated `N` times will be compressed to `[\"c\", \"c\", N]`. E.g. `\"bbbb\"` $\\rightarrow$ `['b', 'b', 4]`. \n",
    "\n",
    "These two rules are all that you need to perform run-length encoding.\n",
    "\n",
    "Let's look at a few examples of run-length-encoding:\n",
    "\n",
    "- `\"abcd\"` $\\rightarrow$ `['a', 'b', 'c', 'd']`\n",
    "- `\"abbbba\"` $\\rightarrow$ `['a', 'b', 'b', 4, 'a']`\n",
    "- `\"aaaabbcccd\"` $\\rightarrow$ `['a', 'a', 4, 'b', 'b', 2, 'c', 'c', 3, 'd']`\n",
    "- `\"\"` $\\rightarrow$ `[]`\n",
    "- `\"1\"` $\\rightarrow$ `[\"1\"]`\n",
    "\n",
    "The decompression algorithm, run-length decoding, simply reverses this process:\n",
    "\n",
    "- `['q', 'a', 'a', 4, 'b', 'b', 2, 'c', 'c', 3, 'd']` $\\rightarrow$ `'qaaaabbcccd'`\n",
    "\n",
    "Here, you will implement a run-length encoding and decoding algorithms. As indicated above, the run-length encoding algorithm should be able to accept a string and return a list with the appropriate string/integer entries, according to the encoding. The decoding algorithm need be able to accept a list with an encoded sequence, and return the decoded string.\n",
    "\n",
    "You should be able to test both of your algorithms by feeding them into one another:\n",
    "```python\n",
    ">>> decoder(encoder(\"Wooooow!!!!! I'm totally getting compressed\"))\n",
    "\"Wooooow!!!!! I'm totally getting compressed\"\n",
    "```"
   ]
  },
  {
   "cell_type": "code",
   "execution_count": 34,
   "metadata": {},
   "outputs": [],
   "source": [
    "\n",
    "def run_length_encoder(stringthing):\n",
    "    stringthing = list(stringthing)\n",
    "    outputthing = []\n",
    "    for i in range(len(stringthing)):\n",
    "        if i == 0:\n",
    "            outputthing.append(stringthing[i])\n",
    "        elif stringthing[i] == stringthing[i-1]:\n",
    "            outputthing[-1] = outputthing[-1] + stringthing[i]\n",
    "        else:\n",
    "            outputthing.append(stringthing[i])\n",
    "    i=0\n",
    "    while i < len(outputthing):\n",
    "        a = len(outputthing[i])\n",
    "        if a>1:\n",
    "            outputthing[i] = outputthing[i][0]\n",
    "            outputthing.insert(i+1, outputthing[i][0])\n",
    "            outputthing.insert(i+2, a)\n",
    "            i+=3\n",
    "        else:\n",
    "            outputthing[i] = outputthing[i]\n",
    "            i+=1\n",
    "    return(outputthing)"
   ]
  },
  {
   "cell_type": "code",
   "execution_count": 35,
   "metadata": {},
   "outputs": [
    {
     "name": "stdout",
     "output_type": "stream",
     "text": [
      "\n",
      "============================== ALL TESTS PASSED! ===============================\n",
      "Your submission code: bw42a5d76dd6ae8182436ab2f9860e8c0feb30dc65224efba85b04727c\n",
      "================================================================================\n",
      "\n"
     ]
    }
   ],
   "source": [
    "# Execute this cell to grade your work\n",
    "from bwsi_grader.python.run_length_encoding import encoder_grader\n",
    "encoder_grader(run_length_encoder)"
   ]
  },
  {
   "cell_type": "code",
   "execution_count": 32,
   "metadata": {},
   "outputs": [],
   "source": [
    "#take input and convert to set\n",
    "#\"['q', 'a', 'a', 4, 'b', 'b', 2, 'c', 'c', 3, 'd']\"\"\n",
    "def run_length_decoder(input):\n",
    "    listthing = input\n",
    "    i=0\n",
    "    if len(listthing)>0: \n",
    "        while i < (len(listthing)):\n",
    "            if type(listthing[i]) == int:\n",
    "                n = listthing[i]\n",
    "                indexcheck = i-1\n",
    "                j=0\n",
    "                listthing.pop(i)\n",
    "                listthing.pop(i-1)\n",
    "                for j in range(n-1):\n",
    "                    listthing.insert(i-2, listthing[i-2])\n",
    "                    j+=1    \n",
    "                i-=(n-2)\n",
    "            else:\n",
    "                i+=1\n",
    "    final = \"\"\n",
    "    return (str(final.join(listthing)))"
   ]
  },
  {
   "cell_type": "code",
   "execution_count": 33,
   "metadata": {},
   "outputs": [
    {
     "ename": "StudentError",
     "evalue": "\nCalling \n\tstudent_function(['a', 'a', 2, 'b', 'b', 2, 'a', 'b', 'a'])\nmutated one of the function's input-arguments. The original argument:\n\n['a', 'a', 2, 'b', 'b', 2, 'a', 'b', 'a']\n\nwas mutated to the value:\n\n['a', 'a', 'b', 'b', 'a', 'b', 'a']\n\nRevise your function so that you copy this argument before changing it in-place.",
     "output_type": "error",
     "traceback": [
      "\u001b[0;31m---------------------------------------------------------------------------\u001b[0m",
      "\u001b[0;31mStudentError\u001b[0m                              Traceback (most recent call last)",
      "\u001b[1;32m/Users/jake/Documents/Coding-Stuff/beaverworks/PythonHW-master/run_length_encoding/HW_run_length_encoding.ipynb Cell 5'\u001b[0m in \u001b[0;36m<module>\u001b[0;34m\u001b[0m\n\u001b[1;32m      <a href='vscode-notebook-cell:/Users/jake/Documents/Coding-Stuff/beaverworks/PythonHW-master/run_length_encoding/HW_run_length_encoding.ipynb#ch0000004?line=0'>1</a>\u001b[0m \u001b[39m# Execute this cell to grade your work\u001b[39;00m\n\u001b[1;32m      <a href='vscode-notebook-cell:/Users/jake/Documents/Coding-Stuff/beaverworks/PythonHW-master/run_length_encoding/HW_run_length_encoding.ipynb#ch0000004?line=1'>2</a>\u001b[0m \u001b[39mfrom\u001b[39;00m \u001b[39mbwsi_grader\u001b[39;00m\u001b[39m.\u001b[39;00m\u001b[39mpython\u001b[39;00m\u001b[39m.\u001b[39;00m\u001b[39mrun_length_encoding\u001b[39;00m \u001b[39mimport\u001b[39;00m decoder_grader\n\u001b[0;32m----> <a href='vscode-notebook-cell:/Users/jake/Documents/Coding-Stuff/beaverworks/PythonHW-master/run_length_encoding/HW_run_length_encoding.ipynb#ch0000004?line=2'>3</a>\u001b[0m decoder_grader(run_length_decoder)\n",
      "File \u001b[0;32m/Library/Frameworks/Python.framework/Versions/3.10/lib/python3.10/site-packages/bwsi_grader/python/run_length_encoding.py:198\u001b[0m, in \u001b[0;36mdecoder_grader\u001b[0;34m(student_func)\u001b[0m\n\u001b[1;32m    186\u001b[0m std_cases \u001b[39m=\u001b[39m [\n\u001b[1;32m    187\u001b[0m     [\u001b[39m\"\u001b[39m\u001b[39ma\u001b[39m\u001b[39m\"\u001b[39m, \u001b[39m\"\u001b[39m\u001b[39mb\u001b[39m\u001b[39m\"\u001b[39m, \u001b[39m\"\u001b[39m\u001b[39mc\u001b[39m\u001b[39m\"\u001b[39m, \u001b[39m\"\u001b[39m\u001b[39md\u001b[39m\u001b[39m\"\u001b[39m],\n\u001b[1;32m    188\u001b[0m     [\u001b[39m\"\u001b[39m\u001b[39ma\u001b[39m\u001b[39m\"\u001b[39m, \u001b[39m\"\u001b[39m\u001b[39mb\u001b[39m\u001b[39m\"\u001b[39m, \u001b[39m\"\u001b[39m\u001b[39ma\u001b[39m\u001b[39m\"\u001b[39m, \u001b[39m\"\u001b[39m\u001b[39mb\u001b[39m\u001b[39m\"\u001b[39m, \u001b[39m\"\u001b[39m\u001b[39ma\u001b[39m\u001b[39m\"\u001b[39m],\n\u001b[0;32m   (...)\u001b[0m\n\u001b[1;32m    194\u001b[0m     [\u001b[39m\"\u001b[39m\u001b[39mH\u001b[39m\u001b[39m\"\u001b[39m, \u001b[39m\"\u001b[39m\u001b[39me\u001b[39m\u001b[39m\"\u001b[39m, \u001b[39m\"\u001b[39m\u001b[39ml\u001b[39m\u001b[39m\"\u001b[39m, \u001b[39m\"\u001b[39m\u001b[39ml\u001b[39m\u001b[39m\"\u001b[39m, \u001b[39m2\u001b[39m, \u001b[39m\"\u001b[39m\u001b[39mo\u001b[39m\u001b[39m\"\u001b[39m, \u001b[39m\"\u001b[39m\u001b[39m \u001b[39m\u001b[39m\"\u001b[39m, \u001b[39m\"\u001b[39m\u001b[39mW\u001b[39m\u001b[39m\"\u001b[39m, \u001b[39m\"\u001b[39m\u001b[39mo\u001b[39m\u001b[39m\"\u001b[39m, \u001b[39m\"\u001b[39m\u001b[39mr\u001b[39m\u001b[39m\"\u001b[39m, \u001b[39m\"\u001b[39m\u001b[39ml\u001b[39m\u001b[39m\"\u001b[39m, \u001b[39m\"\u001b[39m\u001b[39md\u001b[39m\u001b[39m\"\u001b[39m, \u001b[39m\"\u001b[39m\u001b[39md\u001b[39m\u001b[39m\"\u001b[39m, \u001b[39m4\u001b[39m, \u001b[39m\"\u001b[39m\u001b[39m!\u001b[39m\u001b[39m\"\u001b[39m, \u001b[39m\"\u001b[39m\u001b[39m!\u001b[39m\u001b[39m\"\u001b[39m, \u001b[39m3\u001b[39m],\n\u001b[1;32m    195\u001b[0m ]\n\u001b[1;32m    197\u001b[0m \u001b[39mfor\u001b[39;00m input_ \u001b[39min\u001b[39;00m std_cases:\n\u001b[0;32m--> 198\u001b[0m     compare_functions(\n\u001b[1;32m    199\u001b[0m         student\u001b[39m=\u001b[39;49mstudent_func, soln\u001b[39m=\u001b[39;49mdecompression_soln, fn_args\u001b[39m=\u001b[39;49m(input_,)\n\u001b[1;32m    200\u001b[0m     )\n\u001b[1;32m    202\u001b[0m \u001b[39mfor\u001b[39;00m i \u001b[39min\u001b[39;00m \u001b[39mrange\u001b[39m(\u001b[39m1000\u001b[39m):\n\u001b[1;32m    203\u001b[0m     compare_functions(\n\u001b[1;32m    204\u001b[0m         student\u001b[39m=\u001b[39mstudent_func, soln\u001b[39m=\u001b[39mdecompression_soln, fn_args\u001b[39m=\u001b[39m(_gen_encoded_seq(),)\n\u001b[1;32m    205\u001b[0m     )\n",
      "File \u001b[0;32m/Library/Frameworks/Python.framework/Versions/3.10/lib/python3.10/site-packages/bwsi_grader/__init__.py:134\u001b[0m, in \u001b[0;36mcompare_functions\u001b[0;34m(student, soln, fn_args, fn_kwargs, function_name, comparison_function)\u001b[0m\n\u001b[1;32m    130\u001b[0m \u001b[39mfor\u001b[39;00m f_arg, o_arg \u001b[39min\u001b[39;00m \u001b[39mzip\u001b[39m(\n\u001b[1;32m    131\u001b[0m     chain(fn_args, fn_kwargs\u001b[39m.\u001b[39mvalues()), chain(args_orig, kwargs_orig\u001b[39m.\u001b[39mvalues())\n\u001b[1;32m    132\u001b[0m ):\n\u001b[1;32m    133\u001b[0m     \u001b[39mif\u001b[39;00m mismatch_error(f_arg, o_arg):\n\u001b[0;32m--> 134\u001b[0m         \u001b[39mraise\u001b[39;00m StudentError(\n\u001b[1;32m    135\u001b[0m             \u001b[39mf\u001b[39m\u001b[39m\"\u001b[39m\u001b[39m\\n\u001b[39;00m\u001b[39mCalling \u001b[39m\u001b[39m\\n\u001b[39;00m\u001b[39m\\t\u001b[39;00m\u001b[39m{\u001b[39;00mpad_indent(sig, ln\u001b[39m=\u001b[39m\u001b[39m4\u001b[39m)\u001b[39m}\u001b[39;00m\u001b[39m\\n\u001b[39;00m\u001b[39mmutated one of the function\u001b[39m\u001b[39m'\u001b[39m\u001b[39ms \u001b[39m\u001b[39m\"\u001b[39m\n\u001b[1;32m    136\u001b[0m             \u001b[39mf\u001b[39m\u001b[39m\"\u001b[39m\u001b[39minput-arguments. The original argument:\u001b[39m\u001b[39m\\n\u001b[39;00m\u001b[39m\\n\u001b[39;00m\u001b[39m{\u001b[39;00m\u001b[39mrepr\u001b[39m(o_arg)\u001b[39m}\u001b[39;00m\u001b[39m\\n\u001b[39;00m\u001b[39m\\n\u001b[39;00m\u001b[39mwas mutated to the \u001b[39m\u001b[39m\"\u001b[39m\n\u001b[1;32m    137\u001b[0m             \u001b[39mf\u001b[39m\u001b[39m\"\u001b[39m\u001b[39mvalue:\u001b[39m\u001b[39m\\n\u001b[39;00m\u001b[39m\\n\u001b[39;00m\u001b[39m{\u001b[39;00m\u001b[39mrepr\u001b[39m(f_arg)\u001b[39m}\u001b[39;00m\u001b[39m\\n\u001b[39;00m\u001b[39m\\n\u001b[39;00m\u001b[39mRevise your function so that you copy this argument \u001b[39m\u001b[39m\"\u001b[39m\n\u001b[1;32m    138\u001b[0m             \u001b[39mf\u001b[39m\u001b[39m\"\u001b[39m\u001b[39mbefore changing it in-place.\u001b[39m\u001b[39m\"\u001b[39m\n\u001b[1;32m    139\u001b[0m         )\n\u001b[1;32m    141\u001b[0m \u001b[39m# run solution function, checking for Python errors and mutated inputs\u001b[39;00m\n\u001b[1;32m    142\u001b[0m \u001b[39mtry\u001b[39;00m:\n",
      "\u001b[0;31mStudentError\u001b[0m: \nCalling \n\tstudent_function(['a', 'a', 2, 'b', 'b', 2, 'a', 'b', 'a'])\nmutated one of the function's input-arguments. The original argument:\n\n['a', 'a', 2, 'b', 'b', 2, 'a', 'b', 'a']\n\nwas mutated to the value:\n\n['a', 'a', 'b', 'b', 'a', 'b', 'a']\n\nRevise your function so that you copy this argument before changing it in-place."
     ]
    }
   ],
   "source": [
    "# Execute this cell to grade your work\n",
    "from bwsi_grader.python.run_length_encoding import decoder_grader\n",
    "decoder_grader(run_length_decoder)"
   ]
  }
 ],
 "metadata": {
  "kernelspec": {
   "display_name": "Python 3.10.2 64-bit",
   "language": "python",
   "name": "python3"
  },
  "language_info": {
   "codemirror_mode": {
    "name": "ipython",
    "version": 3
   },
   "file_extension": ".py",
   "mimetype": "text/x-python",
   "name": "python",
   "nbconvert_exporter": "python",
   "pygments_lexer": "ipython3",
   "version": "3.10.2"
  },
  "vscode": {
   "interpreter": {
    "hash": "aee8b7b246df8f9039afb4144a1f6fd8d2ca17a180786b69acc140d282b71a49"
   }
  }
 },
 "nbformat": 4,
 "nbformat_minor": 2
}
